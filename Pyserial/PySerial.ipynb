{
 "cells": [
  {
   "cell_type": "markdown",
   "id": "9509d552",
   "metadata": {},
   "source": [
    "# UART Interfacing with the FPGA with PySerial "
   ]
  },
  {
   "cell_type": "markdown",
   "id": "20163cc5",
   "metadata": {},
   "source": [
    "# Setup"
   ]
  },
  {
   "cell_type": "markdown",
   "id": "81292b0c",
   "metadata": {},
   "source": [
    "This code tells us what USB ports are currently running"
   ]
  },
  {
   "cell_type": "code",
   "execution_count": 77,
   "id": "b2f63483",
   "metadata": {
    "scrolled": true
   },
   "outputs": [
    {
     "name": "stdout",
     "output_type": "stream",
     "text": [
      "[    0.133988] printk: console [tty0] enabled\r\n",
      "[    3.534914] dw-apb-uart.2: ttyS4 at MMIO 0x8f802000 (irq = 20, base_baud = 115200) is a 16550A\r\n",
      "[    3.642265] usb 1-2: FTDI USB Serial Device converter now attached to ttyUSB0\r\n",
      "[    3.644446] usb 1-2: FTDI USB Serial Device converter now attached to ttyUSB1\r\n",
      "[ 1464.577965] ftdi_sio ttyUSB0: FTDI USB Serial Device converter now disconnected from ttyUSB0\r\n",
      "[ 1464.578298] ftdi_sio ttyUSB1: FTDI USB Serial Device converter now disconnected from ttyUSB1\r\n",
      "[ 4227.169913] usb 1-2: FTDI USB Serial Device converter now attached to ttyUSB0\r\n",
      "[ 4227.172792] usb 1-2: FTDI USB Serial Device converter now attached to ttyUSB1\r\n",
      "[ 6227.940799] ftdi_sio ttyUSB0: FTDI USB Serial Device converter now disconnected from ttyUSB0\r\n",
      "[ 6537.386701] ftdi_sio ttyUSB1: error from flowcontrol urb\r\n",
      "[ 6537.387017] ftdi_sio ttyUSB1: FTDI USB Serial Device converter now disconnected from ttyUSB1\r\n",
      "[ 6552.660379] usb 1-2: FTDI USB Serial Device converter now attached to ttyUSB0\r\n",
      "[ 6552.663088] usb 1-2: FTDI USB Serial Device converter now attached to ttyUSB2\r\n",
      "[ 6554.040459] ftdi_sio ttyUSB0: FTDI USB Serial Device converter now disconnected from ttyUSB0\r\n",
      "[ 6889.510877] ftdi_sio ttyUSB2: FTDI USB Serial Device converter now disconnected from ttyUSB2\r\n",
      "[ 6892.940002] usb 1-2: FTDI USB Serial Device converter now attached to ttyUSB0\r\n",
      "[ 6892.942670] usb 1-2: FTDI USB Serial Device converter now attached to ttyUSB2\r\n",
      "[ 6893.434440] ftdi_sio ttyUSB0: FTDI USB Serial Device converter now disconnected from ttyUSB0\r\n",
      "[ 7063.028573] ftdi_sio ttyUSB2: FTDI USB Serial Device converter now disconnected from ttyUSB2\r\n",
      "[ 7066.578228] usb 1-3: FTDI USB Serial Device converter now attached to ttyUSB0\r\n",
      "[ 7066.580939] usb 1-3: FTDI USB Serial Device converter now attached to ttyUSB2\r\n",
      "[ 7067.923835] ftdi_sio ttyUSB0: FTDI USB Serial Device converter now disconnected from ttyUSB0\r\n",
      "[ 8187.200238] ftdi_sio ttyUSB2: FTDI USB Serial Device converter now disconnected from ttyUSB2\r\n",
      "[21578.166764] usb 1-3: FTDI USB Serial Device converter now attached to ttyUSB0\r\n",
      "[21578.169154] usb 1-3: FTDI USB Serial Device converter now attached to ttyUSB1\r\n",
      "[21579.684974] ftdi_sio ttyUSB0: FTDI USB Serial Device converter now disconnected from ttyUSB0\r\n",
      "[21858.640056] ftdi_sio ttyUSB1: FTDI USB Serial Device converter now disconnected from ttyUSB1\r\n",
      "[21863.153884] usb 1-2: FTDI USB Serial Device converter now attached to ttyUSB0\r\n",
      "[21863.156750] usb 1-2: FTDI USB Serial Device converter now attached to ttyUSB1\r\n",
      "[21863.305231] ftdi_sio ttyUSB0: FTDI USB Serial Device converter now disconnected from ttyUSB0\r\n"
     ]
    }
   ],
   "source": [
    "!dmesg | grep tty"
   ]
  },
  {
   "cell_type": "markdown",
   "id": "98ab3fce",
   "metadata": {},
   "source": [
    "## Problem: No Permission to access port (SOLVED)\n",
    "Temp solution (resets on reboot)\n",
    "```Shell\n",
    "sudo chmod 777 /dev/ttyUSB1\n",
    "```\n",
    "Permenant Solution\n",
    "```Shell\n",
    "sudo usermod -a -G dialout $USER\n",
    "```"
   ]
  },
  {
   "cell_type": "markdown",
   "id": "f8464920",
   "metadata": {},
   "source": [
    "# Activate State Build Array "
   ]
  },
  {
   "cell_type": "code",
   "execution_count": 79,
   "id": "7f9c288b",
   "metadata": {},
   "outputs": [],
   "source": [
    "\n",
    "ser = serial.Serial('/dev/ttyUSB1',baudrate = 115200, bytesize=8, timeout = 10)\n",
    "ser.write(chr(2).encode())\n",
    "ser.close()"
   ]
  },
  {
   "cell_type": "markdown",
   "id": "185ec908",
   "metadata": {},
   "source": [
    "Check how many numbers the board expects (just read from the source file)"
   ]
  },
  {
   "cell_type": "code",
   "execution_count": 84,
   "id": "25527683",
   "metadata": {},
   "outputs": [
    {
     "name": "stdout",
     "output_type": "stream",
     "text": [
      "Time FPGA:  10.004881858825684 \n",
      "\n",
      "Input random array\n",
      "[66 11 74 68 82 47 68 43 12 74]\n",
      "input sorted for comparison\n",
      "[11 12 43 47 66 68 68 74 74 82]\n"
     ]
    }
   ],
   "source": [
    "import time \n",
    "\n",
    "\n",
    "def sort_test(size=10):\n",
    "    ser = serial.Serial('/dev/ttyUSB1',baudrate = 115200, bytesize=8, timeout = 10)\n",
    "    rd_array  = np.random.randint(low = 0, high = 99, size = size)    \n",
    "    for n in rd_array:\n",
    "        #ser.write(int(n).to_bytes(1, byteorder = 'big'))\n",
    "        ser.write(chr(n).encode())\n",
    "\n",
    "    data = ser.read(size)\n",
    "    data_stream =[]\n",
    "    for a in data:\n",
    "        data_stream.append(a)\n",
    "    ser.close()    \n",
    "    return rd_array,data_stream \n",
    "\n",
    "#timing\n",
    "start = time.time()\n",
    "in_array, data_stream = sort_test()\n",
    "end = time.time()\n",
    "\n",
    "print(\"Time FPGA: \",end - start, \"\\n\")\n",
    "\n",
    "print('Input random array')\n",
    "print(in_array)\n",
    "\n",
    "\n",
    "print('input sorted for comparison')\n",
    "print(np.sort(in_array))"
   ]
  },
  {
   "cell_type": "code",
   "execution_count": 83,
   "id": "e77fc6a7",
   "metadata": {},
   "outputs": [
    {
     "name": "stdout",
     "output_type": "stream",
     "text": [
      "Time in Python:  3.910064697265625e-05 \n",
      "\n",
      "Sorted array is:\n",
      " 11  12  22  25  34  64  90 "
     ]
    }
   ],
   "source": [
    "#an optimized bubble sort algorithm in Python.\n",
    "\n",
    "\n",
    "\n",
    "\n",
    "\n",
    "\n",
    "def bubbleSort(arr):\n",
    "    n = len(arr)\n",
    "    swapped = False\n",
    "    for i in range(n-1):\n",
    "\n",
    "        for j in range(0, n-i-1):\n",
    "\n",
    "            if arr[j] > arr[j + 1]:\n",
    "                swapped = True\n",
    "                arr[j], arr[j + 1] = arr[j + 1], arr[j]\n",
    "         \n",
    "        if not swapped:\n",
    "\n",
    "            return\n",
    " \n",
    " \n",
    "\n",
    "arr = [64, 34, 25, 12, 22, 11, 90]\n",
    "\n",
    "\n",
    "#timing the bubble sort function:\n",
    "start = time.time()\n",
    "\n",
    "bubbleSort(arr)\n",
    "\n",
    "end = time.time()\n",
    "print(\"Time in Python: \",end - start, \"\\n\")\n",
    "\n",
    "\n",
    " \n",
    "print(\"Sorted array is:\")\n",
    "for i in range(len(arr)):\n",
    "    print(\"% d\" % arr[i], end=\" \")\n",
    "    \n",
    "\n",
    "\n",
    "\n",
    "\n"
   ]
  },
  {
   "cell_type": "code",
   "execution_count": null,
   "id": "707c1512",
   "metadata": {},
   "outputs": [],
   "source": []
  }
 ],
 "metadata": {
  "kernelspec": {
   "display_name": "Python [conda env:fpga]",
   "language": "python",
   "name": "conda-env-fpga-py"
  },
  "language_info": {
   "codemirror_mode": {
    "name": "ipython",
    "version": 3
   },
   "file_extension": ".py",
   "mimetype": "text/x-python",
   "name": "python",
   "nbconvert_exporter": "python",
   "pygments_lexer": "ipython3",
   "version": "3.10.9"
  }
 },
 "nbformat": 4,
 "nbformat_minor": 5
}
