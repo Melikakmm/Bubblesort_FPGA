{
 "cells": [
  {
   "cell_type": "markdown",
   "id": "9509d552",
   "metadata": {},
   "source": [
    "# UART Interfacing with the FPGA with PySerial "
   ]
  },
  {
   "cell_type": "markdown",
   "id": "20163cc5",
   "metadata": {},
   "source": [
    "# Setup"
   ]
  },
  {
   "cell_type": "markdown",
   "id": "81292b0c",
   "metadata": {},
   "source": [
    "This code tells us what USB ports are currently running"
   ]
  },
  {
   "cell_type": "code",
   "execution_count": 51,
   "id": "b2f63483",
   "metadata": {
    "scrolled": true
   },
   "outputs": [
    {
     "name": "stdout",
     "output_type": "stream",
     "text": [
      "[    0.133988] printk: console [tty0] enabled\r\n",
      "[    3.534914] dw-apb-uart.2: ttyS4 at MMIO 0x8f802000 (irq = 20, base_baud = 115200) is a 16550A\r\n",
      "[    3.642265] usb 1-2: FTDI USB Serial Device converter now attached to ttyUSB0\r\n",
      "[    3.644446] usb 1-2: FTDI USB Serial Device converter now attached to ttyUSB1\r\n",
      "[ 1464.577965] ftdi_sio ttyUSB0: FTDI USB Serial Device converter now disconnected from ttyUSB0\r\n",
      "[ 1464.578298] ftdi_sio ttyUSB1: FTDI USB Serial Device converter now disconnected from ttyUSB1\r\n",
      "[ 4227.169913] usb 1-2: FTDI USB Serial Device converter now attached to ttyUSB0\r\n",
      "[ 4227.172792] usb 1-2: FTDI USB Serial Device converter now attached to ttyUSB1\r\n",
      "[ 6227.940799] ftdi_sio ttyUSB0: FTDI USB Serial Device converter now disconnected from ttyUSB0\r\n",
      "[ 6537.386701] ftdi_sio ttyUSB1: error from flowcontrol urb\r\n",
      "[ 6537.387017] ftdi_sio ttyUSB1: FTDI USB Serial Device converter now disconnected from ttyUSB1\r\n",
      "[ 6552.660379] usb 1-2: FTDI USB Serial Device converter now attached to ttyUSB0\r\n",
      "[ 6552.663088] usb 1-2: FTDI USB Serial Device converter now attached to ttyUSB2\r\n",
      "[ 6554.040459] ftdi_sio ttyUSB0: FTDI USB Serial Device converter now disconnected from ttyUSB0\r\n",
      "[ 6889.510877] ftdi_sio ttyUSB2: FTDI USB Serial Device converter now disconnected from ttyUSB2\r\n",
      "[ 6892.940002] usb 1-2: FTDI USB Serial Device converter now attached to ttyUSB0\r\n",
      "[ 6892.942670] usb 1-2: FTDI USB Serial Device converter now attached to ttyUSB2\r\n",
      "[ 6893.434440] ftdi_sio ttyUSB0: FTDI USB Serial Device converter now disconnected from ttyUSB0\r\n",
      "[ 7063.028573] ftdi_sio ttyUSB2: FTDI USB Serial Device converter now disconnected from ttyUSB2\r\n",
      "[ 7066.578228] usb 1-3: FTDI USB Serial Device converter now attached to ttyUSB0\r\n",
      "[ 7066.580939] usb 1-3: FTDI USB Serial Device converter now attached to ttyUSB2\r\n",
      "[ 7067.923835] ftdi_sio ttyUSB0: FTDI USB Serial Device converter now disconnected from ttyUSB0\r\n"
     ]
    }
   ],
   "source": [
    "!dmesg | grep tty"
   ]
  },
  {
   "cell_type": "markdown",
   "id": "98ab3fce",
   "metadata": {},
   "source": [
    "## Problem: No Permission to access port (SOLVED)\n",
    "Temp solution (resets on reboot)\n",
    "```Shell\n",
    "sudo chmod 777 /dev/ttyUSB1\n",
    "```\n",
    "Permenant Solution\n",
    "```Shell\n",
    "sudo usermod -a -G dialout $USER\n",
    "```"
   ]
  },
  {
   "cell_type": "markdown",
   "id": "f8464920",
   "metadata": {},
   "source": [
    "# Activate State Build Array "
   ]
  },
  {
   "cell_type": "code",
   "execution_count": 57,
   "id": "7f9c288b",
   "metadata": {},
   "outputs": [],
   "source": [
    "\n",
    "ser = serial.Serial('/dev/ttyUSB2',baudrate = 115200, bytesize=8, timeout = 10)\n",
    "ser.write(chr(2).encode())\n",
    "ser.close()"
   ]
  },
  {
   "cell_type": "markdown",
   "id": "185ec908",
   "metadata": {},
   "source": [
    "Check how many numbers the board expects (just read from the source file)"
   ]
  },
  {
   "cell_type": "code",
   "execution_count": 61,
   "id": "25527683",
   "metadata": {},
   "outputs": [
    {
     "name": "stdout",
     "output_type": "stream",
     "text": [
      "Input random array\n",
      "[35 47 78 66 12 15 68 69 52 86]\n",
      "read from board\n",
      "[]\n",
      "input sorted for comparison\n",
      "[12 15 35 47 52 66 68 69 78 86]\n"
     ]
    }
   ],
   "source": [
    "def sort_test(size=10):\n",
    "    ser = serial.Serial('/dev/ttyUSB2',baudrate = 115200, bytesize=8, timeout = 10)\n",
    "    rd_array  = np.random.randint(low = 0, high = 99, size = size)    \n",
    "    for n in rd_array:\n",
    "        #ser.write(int(n).to_bytes(1, byteorder = 'big'))\n",
    "        ser.write(chr(n).encode())\n",
    "\n",
    "    data = ser.read(size)\n",
    "    data_stream =[]\n",
    "    for a in data:\n",
    "        data_stream.append(a)\n",
    "    ser.close()    \n",
    "    return rd_array,data_stream     \n",
    "in_array, data_stream = sort_test()\n",
    "\n",
    "print('Input random array')\n",
    "print(in_array)\n",
    "print('read from board')\n",
    "print(data_stream)\n",
    "\n",
    "print('input sorted for comparison')\n",
    "print(np.sort(in_array))"
   ]
  }
 ],
 "metadata": {
  "kernelspec": {
   "display_name": "Python [conda env:fpga]",
   "language": "python",
   "name": "conda-env-fpga-py"
  },
  "language_info": {
   "codemirror_mode": {
    "name": "ipython",
    "version": 3
   },
   "file_extension": ".py",
   "mimetype": "text/x-python",
   "name": "python",
   "nbconvert_exporter": "python",
   "pygments_lexer": "ipython3",
   "version": "3.10.9"
  }
 },
 "nbformat": 4,
 "nbformat_minor": 5
}
